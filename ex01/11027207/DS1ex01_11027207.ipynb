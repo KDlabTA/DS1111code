{
 "cells": [
  {
   "cell_type": "code",
   "execution_count": 1,
   "metadata": {},
   "outputs": [],
   "source": [
    "# 11027207 彭靖傑"
   ]
  },
  {
   "cell_type": "code",
   "execution_count": 2,
   "metadata": {},
   "outputs": [],
   "source": [
    "import time"
   ]
  },
  {
   "cell_type": "code",
   "execution_count": 3,
   "metadata": {},
   "outputs": [],
   "source": [
    "permutation = 0\n",
    "def Per_Com(list, limit_length, current_length):\n",
    "  '''\n",
    "  Input: a set of numbers, limit the length of numbers\n",
    "  Output: all permutations of limit length\n",
    "  If the function is called for the first time current_length needs to be set to 0\n",
    "  '''\n",
    "  global permutation\n",
    "  if(current_length == limit_length):  # length limit reached\n",
    "    permutation = permutation + 1\n",
    "    print(\"[\", permutation, \"]\", sep = \"\", end = \" \")  # print this set of numbers\n",
    "    for i in range(limit_length):\n",
    "      print(list[i], end = \" \")\n",
    "    print()\n",
    "  else:\n",
    "    for i in range(current_length, len(list)):  # Find all yet-to-be-found numbers of current length\n",
    "      list[current_length],list[i] = list[i],list[current_length]\n",
    "      Per_Com(list, limit_length, current_length+1)\n",
    "      list[current_length],list[i] = list[i],list[current_length]"
   ]
  },
  {
   "cell_type": "code",
   "execution_count": 4,
   "metadata": {},
   "outputs": [],
   "source": [
    "def Mission1():\n",
    "  global permutation\n",
    "  permutation = 0\n",
    "  N = int(0)\n",
    "  while(N < 1 or N > 9):  # Set N between 1 and 9\n",
    "    N = int (input(\"Input a number:\"))\n",
    "    if(N < 1 or N > 9):\n",
    "      print(\"### It is NOT in [1,9] ###\")\n",
    "  \n",
    "  list = []               # Generate a list from 1 to N\n",
    "  for i in range(N):\n",
    "    list.append(i+1)\n",
    "    \n",
    "  Per_Com(list, N, 0)\n",
    "  print(\"Mission 1:\", permutation, \"permutations\")\n",
    "  print(\"L =\", N)"
   ]
  },
  {
   "cell_type": "code",
   "execution_count": 5,
   "metadata": {},
   "outputs": [],
   "source": [
    "def Mission2():\n",
    "  global permutation\n",
    "  permutation = 0\n",
    "  N = int(0)\n",
    "  while(N < 2 or N > 9):  # Set N between 2 and 9\n",
    "    N = int (input(\"Input a number:\"))\n",
    "    if(N < 2 or N > 9):\n",
    "      print(\"### It is NOT in [2,9] ###\")\n",
    "  \n",
    "  list = []               # Generate a list of length N and let the user set the list\n",
    "  is_repeat = False\n",
    "  i = 0\n",
    "  while(i < N):\n",
    "    number = int (input(\"Input a number:\"))\n",
    "    is_repeat = False\n",
    "    for j in range(i):\n",
    "      if(list[j] == number):\n",
    "        print(\"### Duplicate! Still need\", N-i, \"numbers! ###\");\n",
    "        is_repeat = True\n",
    "    if(not is_repeat):\n",
    "      list.append(number)\n",
    "      i = i + 1\n",
    "    \n",
    "  start = time.time()\n",
    "  Per_Com(list, N, 0)\n",
    "  end = time.time()\n",
    "  print(\"T =\", format(1000*(end-start), '.2f'), \"ms\")"
   ]
  },
  {
   "cell_type": "code",
   "execution_count": 6,
   "metadata": {},
   "outputs": [],
   "source": [
    "def Mission3():\n",
    "  global permutation\n",
    "  permutation = 0\n",
    "  N = int(0)\n",
    "  while(N < 1 or N > 9):  # Set N between 1 and 9\n",
    "    N = int (input(\"Input a number:\"))\n",
    "    if(N < 1 or N > 9):\n",
    "      print(\"### It is NOT in [1,9] ###\")\n",
    "  \n",
    "  list = [1, 2, 3, 4, 5, 6, 7, 8, 9]\n",
    "    \n",
    "  start = time.time()\n",
    "  Per_Com(list, N, 0)\n",
    "  end = time.time()\n",
    "  print(\"T =\", format(1000*(end-start), '.2f'), \"ms\")"
   ]
  },
  {
   "cell_type": "code",
   "execution_count": 7,
   "metadata": {},
   "outputs": [],
   "source": [
    "def Error():\n",
    "  print()\n",
    "  print(\"Command does not exist!\")"
   ]
  },
  {
   "cell_type": "code",
   "execution_count": 8,
   "metadata": {},
   "outputs": [],
   "source": [
    "def Ask():\n",
    "  x = str(input(\"\\\n",
    "** Permutation Generator **\\n\\\n",
    "* 0. Quit                 *\\n\\\n",
    "* 1. N numbers from 1..N  *\\n\\\n",
    "* 2. M numbers from input *\\n\\\n",
    "* 3. M numbers from 1..9  *\\n\\\n",
    "***************************\\n\\\n",
    "Input a choice(0, 1, 2, 3): \"))\n",
    "  return x"
   ]
  },
  {
   "cell_type": "code",
   "execution_count": 9,
   "metadata": {},
   "outputs": [],
   "source": [
    "def Mission(x):\n",
    "  if(x == \"1\"):\n",
    "    Mission1()\n",
    "  elif(x == \"2\"):\n",
    "    Mission2()\n",
    "  elif(x == \"3\"):\n",
    "    Mission3()\n",
    "  else:\n",
    "    Error()"
   ]
  },
  {
   "cell_type": "code",
   "execution_count": 10,
   "metadata": {},
   "outputs": [],
   "source": [
    "def main():\n",
    "  x = Ask()\n",
    "  while(x != \"0\"):\n",
    "    Mission(x)\n",
    "    x = Ask()"
   ]
  },
  {
   "cell_type": "code",
   "execution_count": 11,
   "metadata": {},
   "outputs": [
    {
     "name": "stdout",
     "output_type": "stream",
     "text": [
      "** Permutation Generator **\n",
      "* 0. Quit                 *\n",
      "* 1. N numbers from 1..N  *\n",
      "* 2. M numbers from input *\n",
      "* 3. M numbers from 1..9  *\n",
      "***************************\n",
      "Input a choice(0, 1, 2, 3): 0\n"
     ]
    }
   ],
   "source": [
    " main()"
   ]
  }
 ],
 "metadata": {
  "kernelspec": {
   "display_name": "Python 3 (ipykernel)",
   "language": "python",
   "name": "python3"
  },
  "language_info": {
   "codemirror_mode": {
    "name": "ipython",
    "version": 3
   },
   "file_extension": ".py",
   "mimetype": "text/x-python",
   "name": "python",
   "nbconvert_exporter": "python",
   "pygments_lexer": "ipython3",
   "version": "3.9.12"
  }
 },
 "nbformat": 4,
 "nbformat_minor": 2
}
